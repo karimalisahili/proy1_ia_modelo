{
 "cells": [
  {
   "cell_type": "markdown",
   "id": "ddb82dd6",
   "metadata": {},
   "source": [
    "\n",
    "# Nombre del Proyecto: Clasificador de Imágenes Piedra, Papel o Tijera con CNN\n",
    "\n",
    "## Instalación del Dataset y Requerimientos\n",
    "\n",
    "1. **Extnsiones en VS Code**: \n",
    "    -Descarga la extensión de Jupyter en VS code. \n",
    "\n",
    "\n",
    "2. **Requerimientos**:\n",
    "    - Asegúrate de tener Python instalado (versión 3.11 o superior).\n",
    "    - Instala las siguientes bibliotecas necesarias para el proyecto:\n",
    "      ```bash\n",
    "      pip install -r requirements.txt\n",
    "      ```"
   ]
  },
  {
   "cell_type": "markdown",
   "id": "c2d8d95f",
   "metadata": {},
   "source": [
    "## Importación de dependencias"
   ]
  },
  {
   "cell_type": "code",
   "execution_count": 3,
   "id": "302c5e0a",
   "metadata": {},
   "outputs": [
    {
     "name": "stdout",
     "output_type": "stream",
     "text": [
      "Python version: 3.11.0\n",
      "Tensorflow version: 2.19.0\n",
      "Keras version: 3.9.2\n"
     ]
    }
   ],
   "source": [
    "import tensorflow as tf\n",
    "import tensorflow_datasets as tfds\n",
    "import matplotlib.pyplot as plt\n",
    "import numpy as np\n",
    "import platform\n",
    "import datetime\n",
    "import os\n",
    "import math\n",
    "import random\n",
    "\n",
    "print('Python version:', platform.python_version())\n",
    "print('Tensorflow version:', tf.__version__)\n",
    "print('Keras version:', tf.keras.__version__)"
   ]
  },
  {
   "cell_type": "code",
   "execution_count": null,
   "id": "482784b5",
   "metadata": {},
   "outputs": [],
   "source": []
  }
 ],
 "metadata": {
  "kernelspec": {
   "display_name": "Python 3",
   "language": "python",
   "name": "python3"
  },
  "language_info": {
   "codemirror_mode": {
    "name": "ipython",
    "version": 3
   },
   "file_extension": ".py",
   "mimetype": "text/x-python",
   "name": "python",
   "nbconvert_exporter": "python",
   "pygments_lexer": "ipython3",
   "version": "3.11.0"
  }
 },
 "nbformat": 4,
 "nbformat_minor": 5
}
