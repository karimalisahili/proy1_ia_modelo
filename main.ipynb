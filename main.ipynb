{
 "cells": [
  {
   "cell_type": "markdown",
   "id": "ddb82dd6",
   "metadata": {},
   "source": [
    "\n",
    "# Nombre del Proyecto: Clasificador de Imágenes Piedra, Papel o Tijera con CNN\n",
    "\n",
    "## Instalación del Dataset y Requerimientos\n",
    "\n",
    "1. **Extnsiones en VS Code**: \n",
    "    -Descarga la extensión de Jupyter en VS code. \n",
    "\n",
    "2. **Dataset**:\n",
    "    - Descarga el dataset de imágenes de piedra, papel y tijera desde:\n",
    "\n",
    "    ```bash\n",
    "     https://github.com/tensorflow/datasets \n",
    "     ```\n",
    "\n",
    "    - Extrae el contenido del archivo descargado en un directorio accesible para tu proyecto, la carpeta deberá tener el siguiente formato:\n",
    "    \n",
    "    ```bash\n",
    "      tensorflow_datasets\\datasets\\rock_paper_scissors\\\n",
    "      ```\n",
    "\n",
    "\n",
    "3. **Requerimientos**:\n",
    "    - Asegúrate de tener Python instalado (versión 3.1 o superior).\n",
    "    - Instala las siguientes bibliotecas necesarias para el proyecto:\n",
    "      ```bash\n",
    "      pip install -r requirements.txt\n",
    "      ```"
   ]
  },
  {
   "cell_type": "markdown",
   "id": "854d8894",
   "metadata": {},
   "source": []
  }
 ],
 "metadata": {
  "kernelspec": {
   "display_name": "Python 3",
   "language": "python",
   "name": "python3"
  },
  "language_info": {
   "codemirror_mode": {
    "name": "ipython",
    "version": 3
   },
   "file_extension": ".py",
   "mimetype": "text/x-python",
   "name": "python",
   "nbconvert_exporter": "python",
   "pygments_lexer": "ipython3",
   "version": "3.11.0"
  }
 },
 "nbformat": 4,
 "nbformat_minor": 5
}
